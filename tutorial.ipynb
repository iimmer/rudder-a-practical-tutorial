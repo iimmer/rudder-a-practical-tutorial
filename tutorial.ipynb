{
 "cells": [
  {
   "cell_type": "markdown",
   "metadata": {},
   "source": [
    "<h1 style=\"color:rgb(0,120,170)\">A step-by-step guide to applying RUDDER</h1>\n",
    "\n",
    "--- by Michael Widrich (widi) ---\n",
    "\n",
    "In this tutorial I will show you how RUDDER can be applied step by step and how a reward redistribution model can be implemented using PyTorch.\n",
    "You may use it as a quick-guide to apply RUDDER in your RL setting and to pre-assess if RUDDER might lead to improvements for your task beforehand.\n",
    "This code should be runnable on common CPUs in reasonable time.\n",
    "\n",
    "Links to further RUDDER code, our [blog](https://www.jku.at/index.php?id=16426), and [paper](https://arxiv.org/abs/1806.07857) can be found at our [RUDDER repo](https://github.com/ml-jku/rudder)."
   ]
  },
  {
   "cell_type": "markdown",
   "metadata": {},
   "source": [
    "<h2 style=\"color:rgb(0,120,170)\">Overview: How to apply RUDDER:</h2>\n",
    "I suggest the following procedure to check if RUDDER can help with your RL problem and to apply RUDDER:\n",
    "\n",
    "1. Draw a set of samples from your environment.\n",
    "   <br/><font color=#0099ff>从环境中抽取一组样本。</font>\n",
    "   \n",
    "    - A sample is a sequence of observations, actions, and rewards.\n",
    "    <br><font color=#0099ff>一个样本是一个（观测，动作，奖励）的序列。</font>\n",
    "    - There should be variance in the returns (sum of rewards) of your samples.\n",
    "    <br><font color=#0099ff>样本的总回报应该要有差异（回报是所有奖励的累加）。</font>\n",
    "    - Samples do not need to be from the same policy, you may also include human demonstrations and such.\n",
    "    <br><font color=#0099ff>样本不需要基于相同的策略，也可以包含人工抽取的样本。</font>\n",
    "    \n",
    "1. Train an LSTM on your samples (or whatever model-class you want to use for reward redistribution).\n",
    "   <br><font color=#0099ff>在你的样本上训练一个LSTM（或者是任何种类的模型，用于奖励再分配）。</font>\n",
    "    - This part is a supervised ML task.\n",
    "    <br><font color=#0099ff>这个部分是监督学习。</font>\n",
    "    - The main task to train on is to predict the return of each sample at the end of the sequence.\n",
    "    <br><font color=#0099ff>训练的主要任务是在每个样本序列的结尾估计该样本的总回报。</font>\n",
    "    - As auxiliary task, we will train the model to predict the final return at every sequence position. This will allow us to use differences of predictions for contribution analysis and in some cases it also helps to push the reward further back in time. Down-weight the contribution of this task in comparison to the main task\n",
    "    <br><font color=#0099ff>作为辅助任务，我们需要训练这个模型在序列的每个位置上估计最终的总回报。我们可以使用在每个位置上对总回报估计的差异来进行贡献分析。同样的，这也这也帮助我们把奖励推回到它获得的时间。在与主任务进行比较时，把这个任务获得的贡献度的权重降低</font>\n",
    "    - If your environment also includes intermediate rewards that are not at the sequence end, you can use auxiliary tasks as described in our paper to introduce gradients via these intermediate rewards to simplify learning.\n",
    "    <br><font color=#0099ff>如果您的环境还包括中间奖励（不在序列的末尾），您可以使用我们论文中描述的辅助任务来通过这些中间奖励引入梯度以简化学习。</font>\n",
    "    - I suggest to try to keep the model as simple as possible, as this made reward redistribution and contribution analysis clearer in my experiments.\n",
    "    <br><font color=#0099ff>我建议劲量把模型简化，这会使奖励再分配跟贡献分析变得清晰明了。</font>\n",
    "        1. Start with an LSTM without forget gate and without output gate, where the cell input only receives forward connections and the gates only receive recurrent connections.\n",
    "        <br><font color=#0099ff>从一个没有遗忘门和输出门的LSTM开始，单元的输入仅接收正向连接，所有门仅接收递归连接。</font>\n",
    "        1. Increase the model complexity until the model is able to predict the main task (return at the end of the sequence) good enough.You can do this by including output gate, forget gate, and fully connected gates, in this order.\n",
    "        <br><font color=#0099ff>增加模型复杂度直到它能很好的预测主任务（预测序列结束时的总回报），可以按顺序依次加入输出门，遗忘门和全链门来增加模型复杂度。</font>\n",
    "        \n",
    "1. Check if the reward redistribution makes sense.\n",
    "<br><font color=#0099ff>检查奖励再分配是否合理。</font>\n",
    "    - Look at the output of the contribution analysis, e.g. the differences of predictions of the LSTM at each sequence position, and check if the reward is redistributed to earlier positions in the sequence.\n",
    "    <br><font color=#0099ff>查看贡献分析的输出，列如LSTM在序列每个位置输出预测值的差异。检查奖励是否被分配到了序列较早的位置。</font>\n",
    "    - Check if the model is over-fitting. If it is, increase the number of samples or reduce the model complexity.\n",
    "    <br><font color=#0099ff>查看模型是否过拟合。如果是，增加样本数量或减少模型复杂度。</font>\n",
    "    - At this point you can get a feeling for if RUDDER might help in your task or not.\n",
    "    <br><font color=#0099ff>在这时，你应该能发觉RUDDER是否能帮助你完成任务。</font>\n",
    "1. Set up a lessons buffer to train the reward redistribution model during training of the agent.\n",
    "<br><font color=#0099ff>在agent训练过程中设置一个经验池来训练奖励再分配模型</font>\n",
    "    - From the previous points you should get a feeling for how large the dataset has to be for the LSTM to learn properly.\n",
    "    <br><font color=#0099ff>从之前的步骤中，对于训练一个LSTM来预测最终回报时所需要的数据量，你会有一个直观的认识。</font>\n",
    "    - I suggest a lessons buffer that prioritizes samples with higher reward redistribution model loss and that increases the variance of sample returns in the buffer.\n",
    "    <br><font color=#0099ff>我建议把经验池中的样本，按奖励再分配模型的输出误差，从高到低排列。并增加经验池中所有样本预期回报的方差</font>\n",
    "1. Use the reward redistribution to train an agent, e.g. via with PPO.\n",
    "<br><font color=#0099ff>使用再分配后的奖励来训练agent，如PPO</font>\n",
    "    - For actor-critic based methods, you can replace the reward signal that the critic would be trained on by the redistributed reward.\n",
    "    <br><font color=#0099ff>对于actor-critic算法，可以用在分配后的奖励，替换掉用来训练critic的奖励信号。</font>\n",
    "    - If your environment has intermediate rewards, you might want to mix the original reward signal with the redistributed reward.\n",
    "    <br><font color=#0099ff>如果你的环境有中间奖励，可以混合使用原来的奖励信号和再分配后的奖励信号。</font>\n",
    "    \n",
    "The following sections will show an example for points 1-3, which can serve as pre-assessment if RUDDER might help in your task.\n",
    "<br><font color=#0099ff>下面的章节将举例说明1-3点，可以帮助你预先评估RUDDER是否对你的任务有帮助。</font>"
   ]
  },
  {
   "cell_type": "markdown",
   "metadata": {},
   "source": [
    "<h2 style=\"color:rgb(0,120,170)\">Importing packages</h2>\n",
    "We'll start by importing the required packages for this guide. I will use my repository <a href=\"https://github.com/widmi/widis-lstm-tools\">widis-lstm-tools v0.3</a> for the simplified LSTM. You can install it via\n",
    "\n",
    "```bash\n",
    "pip install git+https://github.com/widmi/widis-lstm-tools\n",
    "```"
   ]
  },
  {
   "cell_type": "code",
   "execution_count": 1,
   "metadata": {},
   "outputs": [],
   "source": [
    "import numpy as np\n",
    "import torch\n",
    "import tqdm\n",
    "from torch.utils.data import Dataset\n",
    "from matplotlib import pyplot as plt\n",
    "from widis_lstm_tools.nn import LSTMLayer\n",
    "\n",
    "# Prepare some random generators for later\n",
    "rnd_gen = np.random.RandomState(seed=123)\n",
    "_ = torch.manual_seed(123)"
   ]
  },
  {
   "cell_type": "markdown",
   "metadata": {},
   "source": [
    "<h2 style=\"color:rgb(0,120,170)\">Creating an example task with delayed reward</h2>\n",
    "\n",
    "For simplicity, we will create samples for a trivial 1D environment, which we traverse with a random policy. Feel free to replace this environment with samples from your task.\n",
    "<br><font color=#0099ff>为了简化，我们创建一个1维旅行的环境，并用随机策略进行移动。你也可以用自己的环境替换这个环境。</font>\n",
    "\n",
    "\n",
    "In this environment the agent starts at position 0 and can choose between moving right or left at each timestep, wich will increase or decrease the agents position by +1 or -1 respectively.\n",
    "Actions that would leave the position range [-6, 6] are ignored, so the number of unique states is restricted to 13. The state only consists of the current position. The agent can take a total of 50 actions per episode, that is each game sequence has a length of 50.\n",
    "<br><font color=#0099ff>在这个环境中，agent从位置0开始移动。每个时间步可以选择左移或者右移，相应的agent的位置会-1或者是+1。如果选择的动作会使agent超出[-6,6]的范围，那么该动作将被忽略。所以不同的状态被限制在了13种。状态仅由位置这一个参数组成。每个回合agent可以执行50步，也就是说每个序列长度为50。</font>\n",
    "\n",
    "Or visually illustrated:\n",
    "\n",
    "<p align=\"center\">\n",
    "  <img src=\"images/example_env.png\">\n",
    "</p>\n",
    "\n",
    "If the agent is in state with position 2 it gains +1 reward. \n",
    "We turn this task into a delayed reward task where we know what the immediate reward would look like. For this we assume that the reward is not shown to the agent immediately but instead the **accumulated reward is shown at the last timestep**.\n",
    "Note that this is not an MDP anymore but for reward redistribution with an LSTM this will not bother us.\n",
    "<br><font color=#0099ff>如果agent在位置2，那么它会得到+1的奖励，虽然我们很清楚怎么样才能得到奖励，但我们要把这个任务变成延迟奖励任务。假设奖励不会马上让agent看到，而是会一直累加，直到最后一步回合结束才显示给agent。注意，这个过程已经不再是MDP过程（TODO：马尔可夫决策过程定义需要补习下），但是通过LSTM进行奖励再分配后，这将不是问题。</font>"
   ]
  },
  {
   "cell_type": "code",
   "execution_count": 2,
   "metadata": {
    "code_folding": []
   },
   "outputs": [],
   "source": [
    "class Environment(Dataset):\n",
    "    def __init__(self, n_samples: int, max_timestep: int, n_positions: int, rnd_gen: np.random.RandomState):\n",
    "        \"\"\"Our simple 1D environment as PyTorch Dataset\"\"\"\n",
    "        super(Environment, self).__init__()\n",
    "        n_actions = 2\n",
    "        zero_position = int(np.ceil(n_positions / 2.))\n",
    "        coin_position = zero_position + 1\n",
    "        \n",
    "        # Generate random action sequences\n",
    "        actions = np.asarray(rnd_gen.randint(low=0, high=2, size=(n_samples, max_timestep)), dtype=np.int)\n",
    "        actions_onehot = np.identity(n_actions, dtype=np.float32)[actions]\n",
    "        \n",
    "        # Generate observations from action sequences\n",
    "        actions[:] = (actions * 2) - 1\n",
    "        observations = np.full(fill_value=zero_position, shape=(n_samples, max_timestep), dtype=np.int)\n",
    "        for t in range(max_timestep-1):\n",
    "            action = actions[:, t]\n",
    "            observations[:, t+1] = np.clip(observations[:, t] + action, 0, n_positions-1)\n",
    "        observations_onehot = np.identity(n_positions, dtype=np.float32)[observations]\n",
    "        \n",
    "        # Calculate rewards (sum over coin position for all timesteps)\n",
    "        rewards = np.zeros(shape=(n_samples, max_timestep), dtype=np.float32)\n",
    "        rewards[:, -1] = observations_onehot[:, :, coin_position].sum(axis=1)\n",
    "        \n",
    "        self.actions = actions_onehot\n",
    "        self.observations = observations_onehot\n",
    "        self.rewards = rewards\n",
    "        \n",
    "    def __len__(self):\n",
    "        return self.rewards.shape[0]\n",
    "    \n",
    "    def __getitem__(self, idx):\n",
    "        return self.observations[idx], self.actions[idx], self.rewards[idx]\n",
    "\n",
    "\n",
    "n_positions = 13\n",
    "env = Environment(n_samples=1000, max_timestep=50, n_positions=13, rnd_gen=rnd_gen)\n",
    "env_loader = torch.utils.data.DataLoader(env, batch_size=8, num_workers=4)"
   ]
  },
  {
   "cell_type": "markdown",
   "metadata": {},
   "source": [
    "Let's take a look at one of the samples:"
   ]
  },
  {
   "cell_type": "code",
   "execution_count": 3,
   "metadata": {},
   "outputs": [
    {
     "data": {
      "image/png": "[encoded data removed]",
      "text/plain": [
       "<Figure size 800x450 with 6 Axes>"
      ]
     },
     "metadata": {
      "needs_background": "light"
     },
     "output_type": "display_data"
    }
   ],
   "source": [
    "# 显示第3，第25个样本\n",
    "obs0, a0, r0 = env.__getitem__(3)\n",
    "obs1, a1, r1 = env.__getitem__(25)\n",
    "# print(obs1,r1)\n",
    "fig, axes = plt.subplots(3, 2, figsize=(8, 4.5), dpi=100)\n",
    "axes[0, 0].plot(obs0.argmax(-1) - 6)\n",
    "axes[0, 1].plot(obs1.argmax(-1) - 6)\n",
    "axes[0, 0].set_ylim(-6, 6)\n",
    "axes[0, 1].set_ylim(-6, 6)\n",
    "axes[0, 0].axhline(2, linestyle='--', color='r')\n",
    "axes[0, 1].axhline(2, linestyle='--', color='r')\n",
    "axes[0, 0].xaxis.grid(True)\n",
    "axes[0, 1].xaxis.grid(True)\n",
    "axes[0, 0].set_title('observations (sample 1)')\n",
    "axes[0, 1].set_title('observations (sample 2)')\n",
    "axes[0, 0].set_xlabel('time (environment steps)')\n",
    "axes[0, 1].set_xlabel('time (environment steps)')\n",
    "\n",
    "axes[1, 0].plot(a0.argmax(-1))\n",
    "axes[1, 1].plot(a1.argmax(-1))\n",
    "axes[1, 0].xaxis.grid(True)\n",
    "axes[1, 1].xaxis.grid(True)\n",
    "axes[1, 0].set_title('actions (sample 1)')\n",
    "axes[1, 1].set_title('actions (sample 2)')\n",
    "axes[1, 0].set_xlabel('time (environment steps)')\n",
    "axes[1, 1].set_xlabel('time (environment steps)')\n",
    "\n",
    "axes[2, 0].plot(r0)\n",
    "axes[2, 1].plot(r1)\n",
    "axes[2, 0].xaxis.grid(True)\n",
    "axes[2, 1].xaxis.grid(True)\n",
    "axes[2, 0].set_title('original rewards (sample 1)')\n",
    "axes[2, 1].set_title('original rewards (sample 2)')\n",
    "axes[2, 0].set_xlabel('time (environment steps)')\n",
    "axes[2, 1].set_xlabel('time (environment steps)')\n",
    "\n",
    "fig.tight_layout()"
   ]
  },
  {
   "cell_type": "markdown",
   "metadata": {},
   "source": [
    "... we can see that we created a delayed reward task. Everytime the agent is at position 2 it receives +1 reward at the end of the sequence.\n",
    "\n",
    "Now let's see what RUDDER can do for us in such a case.\n",
    "<br><font color=#0099ff>我们创建了一个延迟奖励任务，每当agent在位置2时会在序列结束时增加1点奖励。现在让我们来看看RUDDER能做什么</font>"
   ]
  },
  {
   "cell_type": "markdown",
   "metadata": {},
   "source": [
    "<h2 style=\"color:rgb(0,120,170)\">Training a reward redistribution model<br>训练一个奖励再分配模型</h2>\n",
    "\n",
    "We will now train an LSTM model to perform reward redistribution on this task.\n",
    "<br><font color=#0099ff>我们开始训练一个LSTM模型来进行奖励再分配任务<br>"
   ]
  },
  {
   "cell_type": "markdown",
   "metadata": {},
   "source": [
    "<h3 style=\"color:rgb(0,120,170)\">Defining the model<br>定义模型</h3>\n",
    "\n",
    "Our model will consist of one LSTM layer with 16 cells. We will feed concatenated actions and observations timestep by timestep into the network, we could also use separate networks to preprocess actions and observations. In our experiments it helped to have the number of action- and observation features similar before concatenation. In practice it might not always be necessary to also feed the deltas of the observations, like we did in our paper and for the Atari games. In this example I will omit this.\n",
    "<br><font color=#0099ff>我们的模型有一个包含16个单元LSTM层组成。动作和观测数据连续的一步一步喂给网络，我们也可以使用单独的网路来预处理动作和观测数据。根据我们的经验，{在串联前使动作的数量与观测数量接近是有帮助的}。在实践中，把前后观测数据集的差值（想我们在论文中处理Atari游戏那样，把后一帧的数据减去前一帧的数据）喂给网路也不总是必须的。在这个列子中，我们将忽略这个操作。</font>\n",
    "\n",
    "We will start with a simplified LSTM model without forget gate and without output gate. Additionally, we will only connect the input gate to the recurrent connections and the cell input to the forward connections. The output function of our LSTM will be linear since we are performing regression to predict the return value.\n",
    "<br><font color=#0099ff>我们将从一个简化的LSTM模型开始，它没有遗忘门和输出门。另外，我们仅仅连接输入门到递归连接中，单元输入连接到前面的连接中。我们的LSTM网络的输出函数是线性的，因为我们需要进行回归计算来预测回报值。</font>\n",
    "<p align=\"center\">\n",
    "  <img src=\"images/lstm.jpeg\">\n",
    "</p>\n",
    "\n",
    "In cases our model would not be good enough to predict the return at the end of the sequence, we would have to increase the model complexity until it is good enough. You can do this by including output gate, forget gate, and fully connected gates, in this order.\n",
    "<br><font color=#0099ff>如果我们的模型无法很好的在序列结束时估计出回报值。我们可以增加模型复杂度，直到它表现得足够好。你可以依次加入输出门，遗忘门，全连接门？（fully connected gates）。</font>"
   ]
  },
  {
   "cell_type": "code",
   "execution_count": 4,
   "metadata": {},
   "outputs": [],
   "source": [
    "class Net(torch.nn.Module):\n",
    "    def __init__(self, n_positions, n_actions, n_lstm):\n",
    "        super(Net, self).__init__()\n",
    "        \n",
    "        # This will create an LSTM layer where we will feed the concatenate\n",
    "        self.lstm1 = LSTMLayer(\n",
    "            in_features=n_positions+n_actions, out_features=n_lstm, inputformat='NLC',\n",
    "            # cell input: initialize weights to forward inputs with xavier, disable connections to recurrent inputs\n",
    "            w_ci=(torch.nn.init.xavier_normal_, False),\n",
    "            # input gate: disable connections to forward inputs, initialize weights to recurrent inputs with xavier\n",
    "            w_ig=(False, torch.nn.init.xavier_normal_),\n",
    "            # output gate: disable all connection (=no forget gate) and disable bias\n",
    "            w_og=False, b_og=False,\n",
    "            # forget gate: disable all connection (=no forget gate) and disable bias\n",
    "            w_fg=False, b_fg=False,\n",
    "            # LSTM output activation is set to identity function\n",
    "            a_out=lambda x: x\n",
    "        )\n",
    "        \n",
    "        # After the LSTM layer, we add a fully connected output layer\n",
    "        self.fc_out = torch.nn.Linear(n_lstm, 1)\n",
    "    \n",
    "    def forward(self, observations, actions):\n",
    "        # Process input sequence by LSTM\n",
    "        lstm_out, *_ = self.lstm1(torch.cat([observations, actions], dim=-1),\n",
    "                                  return_all_seq_pos=True  # return predictions for all sequence positions\n",
    "                                  )\n",
    "        net_out = self.fc_out(lstm_out)\n",
    "        return net_out\n",
    "\n",
    "\n",
    "# Create Network\n",
    "device = 'cpu'\n",
    "net = Net(n_positions=n_positions, n_actions=2, n_lstm=16)\n",
    "_ = net.to(device)"
   ]
  },
  {
   "cell_type": "markdown",
   "metadata": {},
   "source": [
    "<h3 style=\"color:rgb(0,120,170)\">Defining the loss function<br>定义损失函数</h3>\n",
    "\n",
    "As mentioned in the overview, we will train on two tasks:\n",
    "<br><font color=#0099ff>正如概述里提到的，我们将训练网络完成两个任务</font>\n",
    "\n",
    "1. The **main task** to train on is to predict the return of each sample at the end of the sequence.\n",
    "2. The **auxiliary task** is to train the model to predict the final return at every sequence position. This will allow us to perform contribution analysis via differences of predictions. In some cases this helps to push the reward further back in time. Predicting the final return at every sequence position will typically be a lot more difficult for the LSTM since it needs to predict the unknown future. However, the LSTM does not need to be perfect at this task since having a correct return decomposition depends only on the prediction at the last timestep (main task).\n",
    "<br><font color=#0099ff>1.训练的**主任务**是：预测每个样本在序列结束时的总回报。\n",
    "<br>2.训练的**次要任务**是在序列的每个位置对最终回报进行预测，通过对预测结果求差值进行贡献分析。在某些情况下，这有助于把奖励推回到它发生的时刻。对于LSTM网络，在序列的每个步预测最终的总回报是非常困难的。因为这需要预测未知的未来。但是在这个任务中LSTM不需要预测得太完美，因为要获得正确的回报分解仅仅需要最后一步的预测（主任务）。</font>\n",
    "\n",
    "\n",
    "We do not have any intermediate rewards in the sequence, so we will only use these two tasks (main task, auxiliary task). We will downweight the auxiliary task with a factor of 0.5. Given the model output (=predictions) and the sequence of rewards we compute our loss as follows:\n",
    "<br><font color=#0099ff>在序列中没有立即获得的奖励，所以我们仅仅需要使用这两个任务（主任务，辅助任务）。我们降低辅助任务的权重衰减因子0.5.给出模型的输出（预测值）和我们计算出的序列总回报，就能计算出损失，如下：</font>"
   ]
  },
  {
   "cell_type": "code",
   "execution_count": 5,
   "metadata": {},
   "outputs": [],
   "source": [
    "def lossfunction(predictions, rewards):\n",
    "    returns = rewards.sum(dim=1)\n",
    "    # Main task: predicting return at last timestep\n",
    "    main_loss = torch.mean(predictions[:, -1] - returns) ** 2\n",
    "    # Auxiliary task: predicting final return at every timestep ([..., None] is for correct broadcasting)\n",
    "    aux_loss = torch.mean(predictions[:, :] - returns[..., None]) ** 2\n",
    "    # Combine losses\n",
    "    loss = main_loss + aux_loss * 0.5\n",
    "    return loss"
   ]
  },
  {
   "cell_type": "markdown",
   "metadata": {},
   "source": [
    "<h3 style=\"color:rgb(0,120,170)\">Training the model</h3>\n",
    "\n",
    "Now we train our model:"
   ]
  },
  {
   "cell_type": "code",
   "execution_count": 6,
   "metadata": {},
   "outputs": [
    {
     "name": "stderr",
     "output_type": "stream",
     "text": [
      "Loss:   0.2316: 100%|██████████| 10000/10000 [02:14<00:00, 74.25it/s]\n"
     ]
    }
   ],
   "source": [
    "optimizer = torch.optim.Adam(net.parameters(), lr=1e-3, weight_decay=1e-5)\n",
    "update = 0\n",
    "n_updates = 10000\n",
    "running_loss = 100.\n",
    "progressbar = tqdm.tqdm(total=n_updates)\n",
    "while update < n_updates:\n",
    "    for data in env_loader:\n",
    "        # Get samples\n",
    "        observations, actions, rewards = data\n",
    "#         print(observations.shape,actions.shape,rewards.shape)\n",
    "        \n",
    "        observations, actions, rewards = observations.to(device), actions.to(device), rewards.to(device)\n",
    "        \n",
    "        # Reset gradients\n",
    "        optimizer.zero_grad()\n",
    "        \n",
    "        # Get outputs for network\n",
    "        outputs = net(observations=observations, actions=actions)\n",
    "        \n",
    "        # Calculate loss, do backward pass, and update\n",
    "        loss = lossfunction(outputs[..., 0], rewards)\n",
    "        loss.backward()\n",
    "        running_loss = running_loss*0.99 + loss*0.01\n",
    "        optimizer.step()\n",
    "        update += 1\n",
    "        progressbar.set_description(f\"Loss: {running_loss:8.4f}\")\n",
    "        progressbar.update(1)\n",
    "   \n",
    "\n",
    "progressbar.close()"
   ]
  },
  {
   "cell_type": "markdown",
   "metadata": {},
   "source": [
    "<h3 style=\"color:rgb(0,120,170)\">Computing the reward redistribution</h3>\n",
    "\n",
    "We can now compute the reward redistribution as the differences of predictions of our trained model. In the optimal case, the reward would be redistributed to the actions that caused the reward and return. In practice, it will be distributed to what the model uses to predict the return, which might e.g. be prominent states. This is where the auxiliary task will help to move the reward further back.\n",
    "Naturally, the better the LSTM predictions are, the better this reward redistribution will be.\n",
    "\n",
    "Let's compute the reward redistribution using our trained model:"
   ]
  },
  {
   "cell_type": "code",
   "execution_count": null,
   "metadata": {},
   "outputs": [],
   "source": [
    "# Load 2 samples\n",
    "obs0, a0, r0 = env.__getitem__(3)\n",
    "obs1, a1, r1 = env.__getitem__(25)\n",
    "\n",
    "# Apply our reward redistribution model to the samples\n",
    "observations = torch.stack([torch.Tensor(obs0).to(device), torch.Tensor(obs1).to(device)], dim=0)\n",
    "actions = torch.stack([torch.Tensor(a0).to(device), torch.Tensor(a1).to(device)], dim=0)\n",
    "rewards = torch.stack([torch.Tensor(r0).to(device), torch.Tensor(r1).to(device)], dim=0)\n",
    "predictions = net(observations=observations.to(device), actions=actions.to(device))[..., 0]\n",
    "\n",
    "# Use the differences of predictions as redistributed reward\n",
    "redistributed_reward = predictions[:, 1:] - predictions[:, :-1]\n",
    "\n",
    "# For the first timestep we will take (0-predictions[:, :1]) as redistributed reward\n",
    "redistributed_reward = torch.cat([predictions[:, :1], redistributed_reward], dim=1)"
   ]
  },
  {
   "cell_type": "markdown",
   "metadata": {},
   "source": [
    "We can also enforce that the new and the original sequence have the same return.\n",
    "We will do this by calculating the prediction error and distributing the correction for the error equally over all sequence position:"
   ]
  },
  {
   "cell_type": "code",
   "execution_count": null,
   "metadata": {},
   "outputs": [],
   "source": [
    "# Calculate prediction error\n",
    "returns = rewards.sum(dim=1)\n",
    "predicted_returns = redistributed_reward.sum(dim=1)\n",
    "prediction_error = returns - predicted_returns\n",
    "\n",
    "# Distribute correction for prediction error equally over all sequence positions\n",
    "redistributed_reward += prediction_error[:, None] / redistributed_reward.shape[1]"
   ]
  },
  {
   "cell_type": "markdown",
   "metadata": {},
   "source": [
    "<h3 style=\"color:rgb(0,120,170)\">Inspecting the reward redistribution</h3>\n",
    "\n",
    "Finally, let's take a look at the reward redistribution for our 2 samples:"
   ]
  },
  {
   "cell_type": "code",
   "execution_count": null,
   "metadata": {},
   "outputs": [],
   "source": [
    "# Let's plot our samples with the redistributed rewards:\n",
    "redistributed_reward = redistributed_reward.cpu().detach().numpy()\n",
    "rr0, rr1 = redistributed_reward[0], redistributed_reward[1]\n",
    "\n",
    "fig, axes = plt.subplots(4, 2, figsize=(8, 6), dpi=100)\n",
    "axes[0, 0].plot(obs0.argmax(-1) - 6)\n",
    "axes[0, 1].plot(obs1.argmax(-1) - 6)\n",
    "axes[0, 0].set_ylim(-6, 6)\n",
    "axes[0, 1].set_ylim(-6, 6)\n",
    "axes[0, 0].axhline(2, linestyle='--', color='r')\n",
    "axes[0, 1].axhline(2, linestyle='--', color='r')\n",
    "axes[0, 0].xaxis.grid(True)\n",
    "axes[0, 1].xaxis.grid(True)\n",
    "axes[0, 0].set_title('observations (sample 1)')\n",
    "axes[0, 1].set_title('observations (sample 2)')\n",
    "axes[0, 0].set_xlabel('time (environment steps)')\n",
    "axes[0, 1].set_xlabel('time (environment steps)')\n",
    "\n",
    "axes[1, 0].plot(a0.argmax(-1))\n",
    "axes[1, 1].plot(a1.argmax(-1))\n",
    "axes[1, 0].xaxis.grid(True)\n",
    "axes[1, 1].xaxis.grid(True)\n",
    "axes[1, 0].set_title('actions (sample 1)')\n",
    "axes[1, 1].set_title('actions (sample 2)')\n",
    "axes[1, 0].set_xlabel('time (environment steps)')\n",
    "axes[1, 1].set_xlabel('time (environment steps)')\n",
    "\n",
    "axes[2, 0].plot(r0)\n",
    "axes[2, 1].plot(r1)\n",
    "axes[2, 0].xaxis.grid(True)\n",
    "axes[2, 1].xaxis.grid(True)\n",
    "axes[2, 0].set_title('original rewards (sample 1)')\n",
    "axes[2, 1].set_title('original rewards (sample 2)')\n",
    "axes[2, 0].set_xlabel('time (environment steps)')\n",
    "axes[2, 1].set_xlabel('time (environment steps)')\n",
    "\n",
    "axes[3, 0].plot(rr0)\n",
    "axes[3, 1].plot(rr1)\n",
    "axes[3, 0].xaxis.grid(True)\n",
    "axes[3, 1].xaxis.grid(True)\n",
    "axes[3, 0].set_title('redistributed rewards (sample 1)')\n",
    "axes[3, 1].set_title('redistributed rewards (sample 2)')\n",
    "axes[3, 0].set_xlabel('time (environment steps)')\n",
    "axes[3, 1].set_xlabel('time (environment steps)')\n",
    "\n",
    "fig.tight_layout()"
   ]
  },
  {
   "cell_type": "markdown",
   "metadata": {},
   "source": [
    "We can see that the reward that was originally only given at the end is moved to actions that bring the agent closer to position 2.\n",
    "\n",
    "That means that **we do not recover the environment** where the agent receives +1 reward for being at position 2 **but instead get an environment with rewards that have even shorter delay**, since the actions towards position 2 are immediately rewarded...\n",
    "\n",
    "... and we achieved all of this with a **supervised ML approach**!"
   ]
  },
  {
   "cell_type": "markdown",
   "metadata": {},
   "source": [
    "<h3 style=\"color:rgb(0,120,170)\">A note on LSTM training</h3>\n",
    "\n",
    "Take a look at the cell states and activations to check if your LSTM is doing something useful or just overfits to e.g. the sequence length or goes into saturation somewhere.\n",
    "\n",
    "The LSTM states after training would look something like this for sample 1 in the previous plots:"
   ]
  },
  {
   "cell_type": "code",
   "execution_count": null,
   "metadata": {},
   "outputs": [],
   "source": [
    "# Plost LSTM states for first sample of last processed minibatch\n",
    "net.lstm1.plot_internals(filename=None, show_plot=True, mb_index=0, fdict=dict(figsize=(8, 8), dpi=100))"
   ]
  },
  {
   "cell_type": "markdown",
   "metadata": {},
   "source": [
    "<h3 style=\"color:rgb(0,120,170)\">A note on contribution analysis</h3>\n",
    "\n",
    "We found **differences of predictions** to be a well suited method for contribution analysis in our experiments. Mainly due to three nice properties:\n",
    "\n",
    "1. The **reward redistribution model already performs some averaging over the future** (since it has to predict the final return early in the sequence). This makes learning for the underlying RL agent/method easier. However, this is also the downside of this approach, since the reward redistribution model now not only has to learn to predict the return at the last sequence position. Other contribution analysis methods, such as integrated gradients or layer-wise relevance propagation, do not require the reward redistribution model to learn this prediction at every sequence position, since they can perform contribution analysis based on the prediction at the last sequence position. However, this also means that the agent might receive reward for events that happen in the future, if the contribution analysis comes from the end of the completed episode sequence.\n",
    "2. The reward redistribution model trained on predicting the return at the last sequence position will use information from arbitrary sequence positions to do its prediction. However, we would like to **redistribute the reward as far back to the sequence beginning as possible** to decrease the delay between action and corresponding reward. That means we want the reward redistribution model to **detect information that is useful for the prediction of the return as early in the sequence as possible**. And this is exactly what this auxiliary task does. E.g.: Predicting the outcome of a football game is easy by counting when a team scores a goal. The model is therefore likely to use these prominent events for its prediction. Since we are interested not only in assigning reward to those events but even further back to the actions that caused it (some good play that lead to the goal), we have to push the model to do its prediction as early as possible.\n",
    "3. Using the differences of the predictions at each sequence position implies that **we can easily perform contribution analysis on incomplete sequences**. Hence, we do not need to need to wait until the episode sequence is completed to perform contribution analysis and train our RL agent/method with the redistributed reward. In practice, **we can keep training the reward redistribution model on the completed episodes in the lessons buffer** in the background while we use the same reward redistribution model to perform **online reward redistribution on new sequences** that are sampled from the environment. This allows for **training an agent with redistributed reward in an online fashion**."
   ]
  },
  {
   "cell_type": "markdown",
   "metadata": {},
   "source": [
    "<h2 style=\"color:rgb(0,120,170)\">What is left to do?</h2>\n",
    "\n",
    "At this point you might already be able to assess whether RUDDER helps in your task. You then have to set up a lessons buffer to train your reward redistribution model as the policy changes and feed your RL agent/method with the redistributed reward, as described in points 4 and 5 in the overview.\n",
    "\n",
    "For more details please see our [blog](https://www.jku.at/index.php?id=16426), [paper](https://arxiv.org/abs/1806.07857), and our [RUDDER repo](https://github.com/ml-jku/rudder).\n",
    "\n",
    "Many thanks to Johannes Brandstetter for proof-reading and testing!"
   ]
  },
  {
   "cell_type": "markdown",
   "metadata": {},
   "source": [
    "I hope this tutorial was able to help you and wish you the best for your RL endeavors!\n",
    "\n",
    "-- Michael Widrich (widi)"
   ]
  }
 ],
 "metadata": {
  "kernelspec": {
   "display_name": "Python 3",
   "language": "python",
   "name": "python3"
  },
  "language_info": {
   "codemirror_mode": {
    "name": "ipython",
    "version": 3
   },
   "file_extension": ".py",
   "mimetype": "text/x-python",
   "name": "python",
   "nbconvert_exporter": "python",
   "pygments_lexer": "ipython3",
   "version": "3.6.9"
  }
 },
 "nbformat": 4,
 "nbformat_minor": 2
}
