{
 "cells": [
  {
   "cell_type": "code",
   "execution_count": 16,
   "metadata": {},
   "outputs": [],
   "source": [
    "import numpy as np\n",
    "import torch\n",
    "import tqdm\n",
    "from torch.utils.data import Dataset\n",
    "from matplotlib import pyplot as plt\n",
    "from widis_lstm_tools.nn import LSTMLayer\n"
   ]
  },
  {
   "cell_type": "code",
   "execution_count": 18,
   "metadata": {},
   "outputs": [],
   "source": [
    "??LSTMLayer"
   ]
  },
  {
   "cell_type": "code",
   "execution_count": 6,
   "metadata": {},
   "outputs": [],
   "source": [
    "b=np.random.rand(4,4)"
   ]
  },
  {
   "cell_type": "code",
   "execution_count": 7,
   "metadata": {},
   "outputs": [
    {
     "data": {
      "text/plain": [
       "[array([[0.83201829, 0.55431286, 0.86562911, 0.77977198],\n",
       "        [0.62561938, 0.65966294, 0.62319033, 0.35048853],\n",
       "        [0.31482263, 0.14404961, 0.6100838 , 0.02468585]]),\n",
       " array([[0.42734281, 0.66012537, 0.8651542 , 0.12049186],\n",
       "        [0.58234101, 0.27885603, 0.55071015, 0.83639998],\n",
       "        [0.02239193, 0.59531778, 0.5665424 , 0.66544935],\n",
       "        [0.44866059, 0.21168179, 0.35118498, 0.53156995]])]"
      ]
     },
     "execution_count": 7,
     "metadata": {},
     "output_type": "execute_result"
    }
   ],
   "source": [
    "[a,b]"
   ]
  },
  {
   "cell_type": "code",
   "execution_count": 8,
   "metadata": {},
   "outputs": [],
   "source": [
    "import torch"
   ]
  },
  {
   "cell_type": "code",
   "execution_count": 13,
   "metadata": {},
   "outputs": [],
   "source": [
    "w = torch.empty(3, 5)"
   ]
  },
  {
   "cell_type": "code",
   "execution_count": 14,
   "metadata": {},
   "outputs": [
    {
     "name": "stdout",
     "output_type": "stream",
     "text": [
      "tensor([[ 1.2673e+24,  4.5775e-41,  6.9914e-30,  3.0707e-41, -8.7464e-02],\n",
      "        [-7.7289e-01,  1.4127e-01,  2.5834e-01,  2.8241e-01, -1.5280e-01],\n",
      "        [-4.1757e-01,  6.6509e-01,  1.2614e-01, -3.3438e-02, -1.0911e+00]])\n"
     ]
    },
    {
     "data": {
      "text/plain": [
       "tensor([[ 0.4116,  0.4061, -0.1701,  0.2744, -0.0892],\n",
       "        [-0.4817,  0.4289,  0.0791,  0.2528,  1.0192],\n",
       "        [-0.1382, -0.0668, -0.3246, -0.0412,  0.1588]])"
      ]
     },
     "execution_count": 14,
     "metadata": {},
     "output_type": "execute_result"
    }
   ],
   "source": [
    "print(w)\n",
    "\n",
    "torch.nn.init.xavier_normal_(w)"
   ]
  },
  {
   "cell_type": "code",
   "execution_count": 15,
   "metadata": {},
   "outputs": [
    {
     "data": {
      "text/plain": [
       "tensor(1.7191)"
      ]
     },
     "execution_count": 15,
     "metadata": {},
     "output_type": "execute_result"
    }
   ],
   "source": [
    "w.sum()"
   ]
  },
  {
   "cell_type": "code",
   "execution_count": null,
   "metadata": {},
   "outputs": [],
   "source": []
  }
 ],
 "metadata": {
  "kernelspec": {
   "display_name": "Python 3",
   "language": "python",
   "name": "python3"
  },
  "language_info": {
   "codemirror_mode": {
    "name": "ipython",
    "version": 3
   },
   "file_extension": ".py",
   "mimetype": "text/x-python",
   "name": "python",
   "nbconvert_exporter": "python",
   "pygments_lexer": "ipython3",
   "version": "3.6.9"
  }
 },
 "nbformat": 4,
 "nbformat_minor": 2
}
